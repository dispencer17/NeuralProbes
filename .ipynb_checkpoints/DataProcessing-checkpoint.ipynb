{
 "cells": [
  {
   "cell_type": "code",
   "execution_count": 4,
   "metadata": {},
   "outputs": [],
   "source": [
    "import numpy as np\n",
    "import os\n",
    "import matplotlib\n",
    "import matplotlib.pyplot as plt\n",
    "import numpy.linalg as la\n",
    "import scipy as sp\n",
    "from IPython.display import display, clear_output"
   ]
  },
  {
   "cell_type": "code",
   "execution_count": 5,
   "metadata": {},
   "outputs": [
    {
     "data": {
      "text/plain": [
       "['.DS_Store',\n",
       " 'LDModel.m',\n",
       " 'LargeDeflectionTest.ipynb',\n",
       " '186_Uninfiltrated_Row 7',\n",
       " 'README.md',\n",
       " 'DataProcessing.ipynb',\n",
       " '.ipynb_checkpoints',\n",
       " '.git',\n",
       " 'Large Deflection model.mat',\n",
       " 'post_modulus_script.m']"
      ]
     },
     "execution_count": 5,
     "metadata": {},
     "output_type": "execute_result"
    }
   ],
   "source": [
    "os.listdir()"
   ]
  },
  {
   "cell_type": "markdown",
   "metadata": {},
   "source": [
    "## Upload all data files"
   ]
  },
  {
   "cell_type": "code",
   "execution_count": 6,
   "metadata": {},
   "outputs": [
    {
     "data": {
      "text/plain": [
       "True"
      ]
     },
     "execution_count": 6,
     "metadata": {},
     "output_type": "execute_result"
    }
   ],
   "source": [
    "os.path.isfile('186_Uninfiltrated_Row 7/186_11 wire')"
   ]
  },
  {
   "cell_type": "code",
   "execution_count": 15,
   "metadata": {},
   "outputs": [],
   "source": [
    "wire_dict = {}\n",
    "total_distance_dict = {}"
   ]
  },
  {
   "cell_type": "code",
   "execution_count": 13,
   "metadata": {},
   "outputs": [],
   "source": [
    "def process_data(data):\n",
    "    return_data = data.copy()\n",
    "    total_distance = []\n",
    "    #print(return_data)\n",
    "    initial_x = data[0][1]\n",
    "    #print('initial_x: ', initial_x)\n",
    "    initial_y = data[0][2]\n",
    "    for i in range(len(data)):\n",
    "        #print('data[i][1]: ', data[i][1])\n",
    "        return_data[i][1] = (initial_x - data[i][1])\n",
    "        return_data[i][2] = (initial_y - data[i][2])\n",
    "        total_distance.append(np.sqrt((return_data[i][1])**2 + return_data[i][2]**2))\n",
    "   \n",
    "    return return_data, np.array(total_distance)\n",
    "    "
   ]
  },
  {
   "cell_type": "code",
   "execution_count": 17,
   "metadata": {},
   "outputs": [
    {
     "name": "stdout",
     "output_type": "stream",
     "text": [
      "186_11 ref\n",
      "186_11 wire\n",
      "186_12 ref\n",
      "186_12 wire\n",
      "186_13 ref\n",
      "186_13 wire\n",
      "186_14 ref\n",
      "186_14 wire\n",
      "186_15 ref\n",
      "186_15 wire\n",
      "186_4 ref\n",
      "186_4 wire\n",
      "186_5 ref\n",
      "186_5 wire\n",
      "186_6 ref\n",
      "186_6 wire\n",
      "186_7 ref\n",
      "186_7 wire\n",
      "186_8 ref\n",
      "186_8 wire\n"
     ]
    }
   ],
   "source": [
    "files = []\n",
    "for filename in sorted(os.listdir('186_Uninfiltrated_Row 7')):\n",
    "    print(filename)\n",
    "    #files.append(filename)\n",
    "    \n",
    "    pwire_data, total_distance = process_data(wire_data)\n",
    "    wire_dict[filename.split()[1]] = pwire_data\n",
    "    total_distance_dict[filename.split()[1]] = total_distance\n",
    "#     pwire_data, total_distance = process_data(wire_data_ref)\n",
    "#     wire_dict['wire15ref'] = pwire_data\n",
    "#     total_distance_dict['wire15ref'] = total_distance"
   ]
  },
  {
   "cell_type": "code",
   "execution_count": 19,
   "metadata": {},
   "outputs": [
    {
     "data": {
      "text/plain": [
       "2"
      ]
     },
     "execution_count": 19,
     "metadata": {},
     "output_type": "execute_result"
    }
   ],
   "source": [
    "len(wire_dict)"
   ]
  },
  {
   "cell_type": "code",
   "execution_count": 8,
   "metadata": {},
   "outputs": [],
   "source": [
    "wire_data = np.loadtxt('186_Uninfiltrated_Row 7/186_11 wire', skiprows = 2)\n",
    "wire_data_ref = np.loadtxt('186_Uninfiltrated_Row 7/186_11 ref', skiprows =2)"
   ]
  },
  {
   "cell_type": "code",
   "execution_count": 15,
   "metadata": {},
   "outputs": [],
   "source": [
    "wire_data_ref = wire_data_ref[:len(wire_data)]"
   ]
  },
  {
   "cell_type": "code",
   "execution_count": 23,
   "metadata": {},
   "outputs": [
    {
     "data": {
      "text/plain": [
       "70"
      ]
     },
     "execution_count": 23,
     "metadata": {},
     "output_type": "execute_result"
    }
   ],
   "source": [
    "len(wire_data_ref)"
   ]
  },
  {
   "cell_type": "code",
   "execution_count": 20,
   "metadata": {},
   "outputs": [],
   "source": [
    "pwire_data, total_distance = process_data(wire_data)\n",
    "wire_dict['wire15'] = pwire_data\n",
    "total_distance_dict['wire15'] = total_distance\n",
    "pwire_data, total_distance = process_data(wire_data_ref)\n",
    "wire_dict['wire15ref'] = pwire_data\n",
    "total_distance_dict['wire15ref'] = total_distance"
   ]
  },
  {
   "cell_type": "code",
   "execution_count": 24,
   "metadata": {},
   "outputs": [],
   "source": [
    "yp = abs(np.subtract(total_distance_dict['wire15'], total_distance_dict['wire15ref']))\n",
    "yw = "
   ]
  },
  {
   "cell_type": "code",
   "execution_count": 28,
   "metadata": {},
   "outputs": [
    {
     "data": {
      "image/png": "[encoded data removed]",
      "text/plain": [
       "<Figure size 720x720 with 1 Axes>"
      ]
     },
     "metadata": {
      "needs_background": "light"
     },
     "output_type": "display_data"
    }
   ],
   "source": [
    "fig, ax = plt.subplots()\n",
    "fig.set_figheight(10)\n",
    "fig.set_figwidth(10)\n",
    "\n",
    "ax.scatter(yp, total_distance_dict['wire15'], label='wire positions')\n",
    "\n",
    "ax.set_xlabel('yw')\n",
    "ax.set_ylabel('yp')\n",
    "#ax.set_xlim(180)\n",
    "\n",
    "ax.legend()\n",
    "plt.show()"
   ]
  },
  {
   "cell_type": "code",
   "execution_count": 29,
   "metadata": {},
   "outputs": [],
   "source": [
    "def tls(X,y):\n",
    "    \n",
    "    if X.ndim == 1: \n",
    "        n = 1 # the number of variable of X\n",
    "        X = X.reshape(len(X),1)\n",
    "    else:\n",
    "        n = np.array(X).shape[1] \n",
    "    \n",
    "    Z = np.vstack((X.T,y)).T\n",
    "    U, s, Vt = la.svd(Z, full_matrices=True)\n",
    "    \n",
    "    V = Vt.T\n",
    "    Vxy = V[:n,n:]\n",
    "    Vyy = V[n:,n:]\n",
    "    a_tls = - Vxy  / Vyy # total least squares soln\n",
    "    \n",
    "    Xtyt = - Z.dot(V[:,n:]).dot(V[:,n:].T)\n",
    "    Xt = Xtyt[:,:n] # X error\n",
    "    y_tls = (X+Xt).dot(a_tls)\n",
    "    fro_norm = la.norm(Xtyt, 'fro')\n",
    "    \n",
    "    return y_tls, X+Xt, a_tls, fro_norm"
   ]
  },
  {
   "cell_type": "code",
   "execution_count": 30,
   "metadata": {},
   "outputs": [],
   "source": [
    "y_calc, x_error, a_tls, fro_norm = tls(total_distance_dict['wire15'], yp)"
   ]
  },
  {
   "cell_type": "code",
   "execution_count": 33,
   "metadata": {},
   "outputs": [
    {
     "data": {
      "image/png": "[encoded data removed]",
      "text/plain": [
       "<Figure size 720x720 with 1 Axes>"
      ]
     },
     "metadata": {
      "needs_background": "light"
     },
     "output_type": "display_data"
    }
   ],
   "source": [
    "fig, ax = plt.subplots()\n",
    "fig.set_figheight(10)\n",
    "fig.set_figwidth(10)\n",
    "\n",
    "ax.scatter(abs(np.subtract(total_distance_dict['wire15'], \\\n",
    "                                                       total_distance_dict['wire15ref'])),\\\n",
    "                                                      total_distance_dict['wire15'],  label='wire positions')\n",
    "ax.plot(y_calc, total_distance_dict['wire15'],  label = 'tls fit')\n",
    "\n",
    "ax.set_xlabel('yp')\n",
    "ax.set_ylabel('yw')\n",
    "#ax.set_xlim(180)\n",
    "\n",
    "ax.legend()\n",
    "plt.show()"
   ]
  },
  {
   "cell_type": "markdown",
   "metadata": {},
   "source": [
    "choose a small threshold distance D\n",
    "\n",
    "for N iterations:\n",
    "    pick two random points from your data, a and b\n",
    "    fit a straight line, L, to a and b\n",
    "    count the inliers: data points within a distance D of the line L\n",
    "    save the parameters of the line with the most inliers so far\n",
    "\n",
    "estimate the final line using ALL the inliers of the best lin"
   ]
  },
  {
   "cell_type": "code",
   "execution_count": 34,
   "metadata": {},
   "outputs": [],
   "source": [
    "def plotvr(fig, ax, result, x_sub, y_sub, xs, ys): #, max_val, max_x, min_val, min_x, Fc):\n",
    "    \n",
    "    '''\n",
    "    Plot utility function. \n",
    "    \n",
    "    '''\n",
    "    ax.cla()\n",
    "    ax.set_title('Regression line', fontsize = '20')\n",
    "    ax.scatter(ys, xs, label = 'data')\n",
    "    ax.plot(result,x_sub , c = 'green', lw = '3')\n",
    "    ax.plot(y_sub[0],x_sub[0] , 'or')\n",
    "    ax.plot(y_sub[-1], x_sub[-1], 'oy')\n",
    "    ax.set_xlabel('x axis', fontsize = '20')\n",
    "    ax.set_ylabel('y axis', fontsize = '20')\n",
    "\n",
    "    display(fig)\n",
    "\n",
    "    clear_output(wait = True)\n",
    "    plt.pause(0.05)"
   ]
  },
  {
   "cell_type": "code",
   "execution_count": 41,
   "metadata": {},
   "outputs": [],
   "source": [
    "def RANSAC(xs, ys, tolerance = 30, deflection = 'large'):\n",
    "    \n",
    "    '''\n",
    "    Calculates linear portion of small/large deflection curve\n",
    "    \n",
    "    TODO: return arrays of segmented data. (perhaps just indices)\n",
    "    '''\n",
    "    \n",
    "    fig, ax = plt.subplots(figsize=(10, 10))\n",
    "    result = None\n",
    "    distance = 0\n",
    "    forward = True\n",
    "    backward = True\n",
    "    if deflection == 'small':\n",
    "        \n",
    "        start_point = len(ys)//2\n",
    "        upper_limit = start_point + 2\n",
    "        lower_limit = start_point - 2\n",
    "        \n",
    "    else:\n",
    "        backward = False\n",
    "        start_point = 0\n",
    "        upper_limit = start_point + 2\n",
    "        lower_limit = start_point\n",
    "    \n",
    "    y_sub = ys[lower_limit: upper_limit]\n",
    "    x_sub = xs[lower_limit : upper_limit]\n",
    "    for i in np.arange(0,len(ys)):\n",
    "        \n",
    "        if not backward and not forward:\n",
    "            break\n",
    "                \n",
    "        if forward:\n",
    "            upper_limit = start_point + i + 2\n",
    "            if upper_limit > len(xs):\n",
    "                forward = False\n",
    "                continue\n",
    "            \n",
    "            # consider removing try catch statement if statement above may be \n",
    "            # sufficient.\n",
    "            try:\n",
    "                y_sub = ys[lower_limit: upper_limit]\n",
    "                x_sub = xs[lower_limit: upper_limit]\n",
    "            except IndexError:\n",
    "                y_sub = ys[lower_limit: upper_limit - 1]\n",
    "                x_sub = xs[lower_limit: upper_limit - 1] \n",
    "                forward = False\n",
    "                continue\n",
    "            \n",
    "            line_obj = np.poly1d(np.polyfit(x_sub, y_sub, 1))\n",
    "            result = line_obj(x_sub)\n",
    "            p1 = np.array([x_sub[0], y_sub[0]])\n",
    "            p2 = np.array([x_sub[-2], y_sub[-2]])\n",
    "            p3 = np.array([x_sub[-1], y_sub[-1]])\n",
    "            distance = (np.abs(np.cross(p2-p1, p3-p1)) / la.norm(p2-p1))\n",
    "\n",
    "            if distance > tolerance:\n",
    "                forward = False\n",
    "                distance = 0\n",
    "                continue\n",
    "            plotvr(fig, ax, result, x_sub, y_sub, xs, ys)\n",
    "            \n",
    "        if backward:\n",
    "            lower_limit = start_point  - i - 1\n",
    "            \n",
    "            if lower_limit < 0:\n",
    "                backward = False\n",
    "                continue\n",
    "                \n",
    "            try:\n",
    "                y_sub = ys[lower_limit: upper_limit]\n",
    "                x_sub = xs[lower_limit: upper_limit]\n",
    "\n",
    "            except IndexError:\n",
    "\n",
    "                y_sub = ys[lower_limit + 1: upper_limit]\n",
    "                x_sub = xs[lower_limit + 1: upper_limit]\n",
    "                backward = False\n",
    "                continue\n",
    "            line_obj = np.poly1d(np.polyfit(x_sub, y_sub, 1))\n",
    "            result = line_obj(x_sub)\n",
    "            p1 = np.array([x_sub[0],  y_sub[0]])\n",
    "            p2 = np.array([x_sub[-2], y_sub[-2]])\n",
    "            p3 = np.array([x_sub[1], y_sub[1]])\n",
    "            distance = (np.abs(np.cross(p2-p1, p3-p1)) / la.norm(p2-p1))\n",
    "            if distance > tolerance:\n",
    "                backward = False\n",
    "                distance = 0\n",
    "                continue\n",
    "            plotvr(fig, ax, result, x_sub, y_sub, xs, ys)\n",
    "            \n",
    "    return [lower_limit, upper_limit]"
   ]
  },
  {
   "cell_type": "code",
   "execution_count": 3,
   "metadata": {},
   "outputs": [
    {
     "ename": "NameError",
     "evalue": "name 'RANSAC' is not defined",
     "output_type": "error",
     "traceback": [
      "\u001b[0;31m-------------------------------------------------------------\u001b[0m",
      "\u001b[0;31mNameError\u001b[0m                   Traceback (most recent call last)",
      "\u001b[0;32m<ipython-input-3-39ddb0600386>\u001b[0m in \u001b[0;36m<module>\u001b[0;34m\u001b[0m\n\u001b[0;32m----> 1\u001b[0;31m \u001b[0mlinear_limits\u001b[0m \u001b[0;34m=\u001b[0m \u001b[0mRANSAC\u001b[0m\u001b[0;34m(\u001b[0m\u001b[0mtotal_distance_dict\u001b[0m\u001b[0;34m[\u001b[0m\u001b[0;34m'wire15'\u001b[0m\u001b[0;34m]\u001b[0m\u001b[0;34m,\u001b[0m \u001b[0myp\u001b[0m\u001b[0;34m,\u001b[0m \u001b[0mtolerance\u001b[0m \u001b[0;34m=\u001b[0m \u001b[0;36m2.5\u001b[0m\u001b[0;34m,\u001b[0m \u001b[0mdeflection\u001b[0m \u001b[0;34m=\u001b[0m \u001b[0;34m'large'\u001b[0m\u001b[0;34m)\u001b[0m\u001b[0;34m\u001b[0m\u001b[0;34m\u001b[0m\u001b[0m\n\u001b[0m",
      "\u001b[0;31mNameError\u001b[0m: name 'RANSAC' is not defined"
     ]
    }
   ],
   "source": [
    "linear_limits = RANSAC(total_distance_dict['wire15'], yp, tolerance = 2.5, deflection = 'large')"
   ]
  },
  {
   "cell_type": "code",
   "execution_count": null,
   "metadata": {},
   "outputs": [],
   "source": []
  }
 ],
 "metadata": {
  "kernelspec": {
   "display_name": "Identification",
   "language": "python",
   "name": "identification"
  },
  "language_info": {
   "codemirror_mode": {
    "name": "ipython",
    "version": 3
   },
   "file_extension": ".py",
   "mimetype": "text/x-python",
   "name": "python",
   "nbconvert_exporter": "python",
   "pygments_lexer": "ipython3",
   "version": "3.9.0"
  }
 },
 "nbformat": 4,
 "nbformat_minor": 4
}
