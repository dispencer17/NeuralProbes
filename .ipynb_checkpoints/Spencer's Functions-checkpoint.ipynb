{
 "cells": [
  {
   "cell_type": "code",
   "execution_count": null,
   "metadata": {},
   "outputs": [],
   "source": [
    "def makeSameLength(wireData, refData):\n",
    "    if(len(wireData) > len(refData)):\n",
    "        wireData = wireData[:len(wireRef)]\n",
    "    if(len(wireData) < len(refData)):\n",
    "        refData = refData[:len(wireData)]\n",
    "    return wireData, refData"
   ]
  },
  {
   "cell_type": "code",
   "execution_count": null,
   "metadata": {},
   "outputs": [],
   "source": [
    "def findSlippageSegment(wireData, refData, threshold):\n",
    "    for i in range(len(wireData)):\n",
    "        wireStepSize = abs(wireData[elasticStart+(i+1)][2] - wire[elasticStart+(i)][2])\n",
    "        if (wireStepSize > threshold)\n",
    "            wireData = wireData[:-i]\n",
    "            break\n",
    "        wireData, refData = makeSameLength(wireData, refData)\n",
    "        return wireData, refData"
   ]
  },
  {
   "cell_type": "code",
   "execution_count": null,
   "metadata": {},
   "outputs": [],
   "source": [
    "def "
   ]
  },
  {
   "cell_type": "code",
   "execution_count": null,
   "metadata": {},
   "outputs": [],
   "source": [
    "def segmentData(wireData, refData):\n",
    "    elasticStart, elasticEnd = findElasticSegment(wireData, refData)\n",
    "    slipStart, slipEnd = findSlippageSegment"
   ]
  }
 ],
 "metadata": {
  "kernelspec": {
   "display_name": "Python 3",
   "language": "python",
   "name": "python3"
  },
  "language_info": {
   "codemirror_mode": {
    "name": "ipython",
    "version": 3
   },
   "file_extension": ".py",
   "mimetype": "text/x-python",
   "name": "python",
   "nbconvert_exporter": "python",
   "pygments_lexer": "ipython3",
   "version": "3.8.5"
  }
 },
 "nbformat": 4,
 "nbformat_minor": 4
}
